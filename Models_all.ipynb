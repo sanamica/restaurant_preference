{
 "cells": [
  {
   "cell_type": "code",
   "execution_count": null,
   "metadata": {},
   "outputs": [],
   "source": [
    "from sklearn.model_selection import GridSearchCV, RandomizedSearchCV, train_test_split\n",
    "from sklearn.linear_model import LinearRegression\n",
    "from sklearn.metrics import accuracy_score, confusion_matrix, classification_report,r2_score\n",
    "import pandas as pd\n",
    "import matplotlib.pyplot as plt\n",
    "import seaborn as sns\n",
    "import numpy as np\n",
    "import re\n",
    "%matplotlib inline\n",
    "pd.options.display.max_columns = None\n",
    "pd.set_option('display.max_colwidth', None)\n",
    "pd.set_option('float_format', '{:f}'.format)"
   ]
  },
  {
   "cell_type": "code",
   "execution_count": null,
   "metadata": {},
   "outputs": [],
   "source": [
    "# feature_cols = user_merged.columns.drop(['business_id', 'name', 'address', 'city', 'state_left', 'postal_code',\n",
    "# #                                     'census_tract', 'median_income', 'review_id', 'review_count_y', 'user__average_stars',\n",
    "#                                         'user_id', 'review_stars', 'text', 'date', 'review_count_y', 'user__average_stars',\n",
    "#                                         'rating_score','income_range'])"
   ]
  },
  {
   "cell_type": "code",
   "execution_count": null,
   "metadata": {},
   "outputs": [],
   "source": [
    "yelp_compiled = pd.read_csv('Yelp_data/yelp_compiled.csv')\n",
    "\n"
   ]
  },
  {
   "cell_type": "code",
   "execution_count": null,
   "metadata": {},
   "outputs": [],
   "source": [
    "#getting median income range\n",
    "q3 =yelp_compiled['median_income'].quantile(.75)\n",
    "q2 =yelp_compiled['median_income'].quantile(.50)\n",
    "q1 =yelp_compiled['median_income'].quantile(.25)\n",
    "def income_classifier (x):\n",
    "    if x >= q3:\n",
    "        return \"2\"\n",
    "    if x <= q1:\n",
    "        return \"0\"\n",
    "    else:\n",
    "        return \"1\"\n",
    "\n",
    "yelp_compiled['income_range'] = yelp_compiled['median_income'].apply(income_classifier)\n",
    "#yelp_compiled.head()"
   ]
  },
  {
   "cell_type": "code",
   "execution_count": null,
   "metadata": {},
   "outputs": [],
   "source": [
    "#rating score\n",
    "def rating_scorer (x):\n",
    "    if x> 3:\n",
    "        return 1\n",
    "    if x< 3:\n",
    "        return 3\n",
    "    else:\n",
    "        return 2\n",
    "yelp_compiled['rating_score'] = yelp_compiled['stars'].apply(rating_scorer)"
   ]
  },
  {
   "cell_type": "code",
   "execution_count": null,
   "metadata": {},
   "outputs": [],
   "source": [
    "#getting weighted_star\n",
    "yelp_compiled['weighted_star'] = yelp_compiled['review_count']*yelp_compiled['stars']"
   ]
  },
  {
   "cell_type": "code",
   "execution_count": null,
   "metadata": {},
   "outputs": [],
   "source": []
  },
  {
   "cell_type": "code",
   "execution_count": null,
   "metadata": {},
   "outputs": [],
   "source": [
    "list(yelp_compiled.columns)"
   ]
  },
  {
   "cell_type": "code",
   "execution_count": null,
   "metadata": {},
   "outputs": [],
   "source": [
    "plt.figure(figsize=(10,7))\n",
    "sns.distplot(yelp_compiled.median_income)\n",
    "plt.title(\"Median Income Distribution\", fontsize=15)\n",
    "plt.xlabel('Median Income', fontsize =15);"
   ]
  },
  {
   "cell_type": "code",
   "execution_count": null,
   "metadata": {},
   "outputs": [],
   "source": [
    "yelp_compiled.median_income.describe()"
   ]
  },
  {
   "cell_type": "code",
   "execution_count": null,
   "metadata": {},
   "outputs": [],
   "source": [
    "#data =yelp_compiled.income_range.value_counts()\n",
    "plt.figure(figsize=(10,7))\n",
    "sns.countplot(x='income_range', data=yelp_compiled)\n",
    "plt.title(\"Median Income Ranges\", fontsize=15)\n",
    "plt.xlabel(\"Income Range\", fontsize = 15)\n",
    "plt.ylabel(\"Count\",fontsize =15);\n"
   ]
  },
  {
   "cell_type": "code",
   "execution_count": null,
   "metadata": {},
   "outputs": [],
   "source": [
    "#Distribution of stars\n",
    "g = sns.catplot(x=\"stars\", col=\"income_range\",\n",
    "                data=yelp_compiled, kind=\"count\",\n",
    "                height= 5, aspect=.9);"
   ]
  },
  {
   "cell_type": "code",
   "execution_count": null,
   "metadata": {},
   "outputs": [],
   "source": [
    "#top_reviewed_high = yelp_compiled[yelp_compiled['income_range']==2\n",
    "Categories={}\n",
    "for cat in yelp_compiled.new_categories.values:\n",
    "    all_categories= cat.split(\",\")\n",
    "    for x in all_categories:\n",
    "        try :\n",
    "            Categories[x] =Categories[x]+1\n",
    "        except:\n",
    "            Categories[x]=1\n",
    "top_categories = pd.DataFrame.from_dict(data= Categories,orient=\"index\")\n",
    "top_categories.reset_index(inplace=True)\n",
    "top_categories.columns = ['Category', 'Count']"
   ]
  },
  {
   "cell_type": "code",
   "execution_count": null,
   "metadata": {},
   "outputs": [],
   "source": [
    "#stripping white space in front of words in column and getting dummy\n",
    "top_categories['Category'] = top_categories['Category'].str.lstrip()\n",
    "#yelp_compiled[\"new_categories\"] = yelp_compiled['new_categories'].str.lstrip()"
   ]
  },
  {
   "cell_type": "code",
   "execution_count": null,
   "metadata": {},
   "outputs": [],
   "source": [
    "#stripping white space in front of words in column and getting dummy\n",
    "top_categories['Category'] = top_categories['Category'].str.lstrip()\n",
    "#plotting\n",
    "categories_sorted =top_categories.sort_values(by ='Count', ascending =False).head(20)\n",
    "plt.figure(figsize=(12,8))\n",
    "sns.barplot(x='Category',y='Count',data= categories_sorted) \n",
    "plt.title(\"Top Ten Restaurant Categories \", fontsize=15)\n",
    "plt.xlabel(\"\")\n",
    "plt.ylabel(\"Count\",fontsize =15)\n",
    "plt.xticks(\n",
    "    rotation= 90, \n",
    "    horizontalalignment='center',\n",
    "    fontweight='light',\n",
    "    fontsize='x-large')\n",
    "plt.tight_layout();\n",
    "# top_categories.sort_values(by ='Count', ascending =False).head(20).plot.bar(x='Category', y ='Count');"
   ]
  },
  {
   "cell_type": "code",
   "execution_count": null,
   "metadata": {},
   "outputs": [],
   "source": [
    "# income_high.to_csv('Yelp_data/income_high', index=False)"
   ]
  },
  {
   "cell_type": "code",
   "execution_count": null,
   "metadata": {},
   "outputs": [],
   "source": [
    "income_high = yelp_compiled[yelp_compiled['income_range']=='2']\n",
    "Categories={}\n",
    "for cat in income_high.new_categories.values:\n",
    "    all_categories= cat.split(\",\")\n",
    "    for x in all_categories:\n",
    "        try :\n",
    "            Categories[x] =Categories[x]+1\n",
    "        except:\n",
    "            Categories[x]=1\n",
    "categories_high = pd.DataFrame.from_dict(data= Categories,orient=\"index\")\n",
    "categories_high.reset_index(inplace=True)\n",
    "categories_high.columns = ['Category', 'Count']\n"
   ]
  },
  {
   "cell_type": "code",
   "execution_count": null,
   "metadata": {},
   "outputs": [],
   "source": [
    "#stripping white space in front of words in column and getting dummy\n",
    "categories_high['Category'] = categories_high['Category'].str.lstrip()\n",
    "#plotting\n",
    "categories_sorted_h =categories_high.sort_values(by ='Count', ascending =False).head(20)\n",
    "plt.figure(figsize=(12,8))\n",
    "sns.barplot(x='Category',y='Count',data= categories_sorted_h) \n",
    "plt.title(\"Top Ten Restaurant Categories in High Income Group \", fontsize=15)\n",
    "plt.xlabel(\"\")\n",
    "plt.ylabel(\"Count\",fontsize =15)\n",
    "plt.xticks(\n",
    "    rotation= 90, \n",
    "    horizontalalignment='center',\n",
    "    fontweight='light',\n",
    "    fontsize='x-large')\n",
    "plt.tight_layout();\n",
    "# top_categories.sort_values(by ='Count', ascending =False).head(20).plot.bar(x='Category', y ='Count');"
   ]
  },
  {
   "cell_type": "code",
   "execution_count": null,
   "metadata": {},
   "outputs": [],
   "source": [
    "income_low = yelp_compiled[yelp_compiled['income_range']=='0']\n",
    "#income_low.to_csv('Yelp_data/income_low', index=False)\n",
    "Categories={}\n",
    "for cat in income_low.new_categories.values:\n",
    "    all_categories= cat.split(\",\")\n",
    "    for x in all_categories:\n",
    "        try :\n",
    "            Categories[x] =Categories[x]+1\n",
    "        except:\n",
    "            Categories[x]=1\n",
    "categories_low = pd.DataFrame.from_dict(data= Categories,orient=\"index\")\n",
    "categories_low.reset_index(inplace=True)\n",
    "categories_low.columns = ['Category', 'Count']\n",
    "#categories_low.sort_values(by ='occurance', ascending =False).head(20).plot.bar(x='category', y ='occurance');"
   ]
  },
  {
   "cell_type": "code",
   "execution_count": null,
   "metadata": {},
   "outputs": [],
   "source": [
    "#stripping white space in front of words in column and getting dummy\n",
    "categories_low['Category'] = categories_low['Category'].str.lstrip()\n",
    "#plotting\n",
    "categories_sorted_l =categories_low.sort_values(by ='Count', ascending =False).head(20)\n",
    "plt.figure(figsize=(12,8))\n",
    "sns.barplot(x='Category',y='Count',data= categories_sorted_l) \n",
    "plt.title(\"Top Ten Restaurant Categories in Low Income Group\", fontsize=15)\n",
    "plt.xlabel(\"\")\n",
    "plt.ylabel(\"Count\",fontsize =15)\n",
    "plt.xticks(\n",
    "    rotation= 90, \n",
    "    horizontalalignment='center',\n",
    "    fontweight='light',\n",
    "    fontsize='x-large')\n",
    "plt.tight_layout();"
   ]
  },
  {
   "cell_type": "code",
   "execution_count": null,
   "metadata": {},
   "outputs": [],
   "source": [
    "top_reviewed_cat =yelp_compiled.groupby(['income_range', 'name']).apply(pd.DataFrame.sort_values, 'stars')"
   ]
  },
  {
   "cell_type": "code",
   "execution_count": null,
   "metadata": {},
   "outputs": [],
   "source": [
    "income_low_res =income_low.sort_values(by = ['review_count','stars'], ascending =False).head(20)\n",
    "plt.figure(figsize=(12,8))\n",
    "sns.barplot(x='name',y= 'stars',data= income_low_res)\n",
    "plt.title(\"Highly Reviewed Restaurant in Low Income \", fontsize=15)\n",
    "plt.xlabel(\"\")\n",
    "plt.ylabel(\"stars\",fontsize =15)\n",
    "plt.xticks(\n",
    "    rotation= 90, \n",
    "    horizontalalignment='center',\n",
    "    fontweight='light',\n",
    "    fontsize='x-large')\n",
    "plt.tight_layout();"
   ]
  },
  {
   "cell_type": "code",
   "execution_count": null,
   "metadata": {},
   "outputs": [],
   "source": [
    "income_high_res =income_high.sort_values(by = ['review_count','stars'], ascending =False).head(20)\n",
    "plt.figure(figsize=(12,8))\n",
    "sns.barplot(x='name',y= 'stars',data= income_high_res)\n",
    "plt.title(\"Highly Reviewed Restaurant in High Income \", fontsize=15)\n",
    "plt.xlabel(\"\")\n",
    "plt.ylabel(\"stars\",fontsize =15)\n",
    "plt.xticks(\n",
    "    rotation= 90, \n",
    "    horizontalalignment='center',\n",
    "    fontweight='light',\n",
    "    fontsize='x-large')\n",
    "plt.tight_layout();"
   ]
  },
  {
   "cell_type": "code",
   "execution_count": null,
   "metadata": {},
   "outputs": [],
   "source": [
    "#stripping white space in front of words in column and getting dummy\n",
    "yelp_compiled[\"new_categories\"] = yelp_compiled['new_categories'].str.lstrip()\n"
   ]
  },
  {
   "cell_type": "code",
   "execution_count": null,
   "metadata": {},
   "outputs": [],
   "source": [
    "yelp_compiled.shape"
   ]
  },
  {
   "cell_type": "code",
   "execution_count": null,
   "metadata": {},
   "outputs": [],
   "source": [
    "yelp_compiled.head()"
   ]
  },
  {
   "cell_type": "code",
   "execution_count": null,
   "metadata": {},
   "outputs": [],
   "source": [
    "top_reviewed = yelp_compiled[yelp_compiled[\"stars\"]>3]\n",
    "top_reviews_dict ={}\n",
    "\n",
    "for business_id in top_reviewed[\"business_id\"].values:\n",
    "    try :\n",
    "        top_reviews_dict[business_id] =top_reviews_dict[business_id]+1\n",
    "    except:\n",
    "        top_reviews_dict[business_id]=1\n",
    "        \n",
    "topbusiness = pd.DataFrame.from_dict(data= top_reviews_dict,orient=\"index\")\n",
    "\n",
    "topbusiness.reset_index(inplace=True)\n",
    "topbusiness.columns = ['business_id','rated']\n",
    "# del(top_reviews_dict)\n",
    "del(top_reviewed)"
   ]
  },
  {
   "cell_type": "code",
   "execution_count": null,
   "metadata": {},
   "outputs": [],
   "source": [
    "top_reviews_dict\n"
   ]
  },
  {
   "cell_type": "code",
   "execution_count": null,
   "metadata": {},
   "outputs": [],
   "source": [
    "topbusiness.head()"
   ]
  },
  {
   "cell_type": "code",
   "execution_count": null,
   "metadata": {},
   "outputs": [],
   "source": [
    "top_count= 20\n",
    "right=pd.DataFrame(yelp_compiled[['business_id',\"name\",\"new_categories\"]].values,\n",
    "                    columns=['business_id',\"Business name\",\"new_categories\"])\n",
    "\n",
    "top_business_data = pd.merge(topbusiness,right=right, how=\"inner\",on='business_id')\n",
    "top_business_data.sort_values(\"rated\")[::-1][:top_count].plot(x=\"Business name\",y=\"rated\", \n",
    "                                                   kind=\"bar\",figsize=(14,6),\n",
    "                                                   title='Positive reviews').set_ylabel(\"Total ratings\")\n",
    "\n",
    "del(topbusiness)\n",
    "del(right)"
   ]
  },
  {
   "cell_type": "code",
   "execution_count": null,
   "metadata": {},
   "outputs": [],
   "source": [
    "top_business_data"
   ]
  },
  {
   "cell_type": "code",
   "execution_count": null,
   "metadata": {},
   "outputs": [],
   "source": [
    "\n",
    "# top_reviewed_high = income_high[income_high[\"stars\"]>3 ]\n",
    "# num_cat =10 # to show top 10 catrgories\n",
    "# top_business = 30 # choose categories of top 30 businesses\n",
    "# cat_data = top_reviewed_high.sort_values(\"rated\")[::-1]\n",
    "# cat_data.new_categories\n",
    "# Categories={}\n",
    "# for cat in cat_data.new_categories.values:\n",
    "#     all_categories= cat.split(\",\")\n",
    "#     for x in all_categories:\n",
    "#         try :\n",
    "#             Categories[x] =Categories[x]+1\n",
    "#         except:\n",
    "#             Categories[x]=1\n",
    "# top_categories_high = pd.DataFrame.from_dict(data= Categories,orient=\"index\")\n",
    "# top_categories_high.reset_index(inplace=True)\n",
    "# top_categories_high.columns = ['Category', 'Count']\n"
   ]
  },
  {
   "cell_type": "code",
   "execution_count": null,
   "metadata": {},
   "outputs": [],
   "source": [
    "# #plotting\n",
    "# top_categories_high['Category'] = top_categories_high['Category'].str.lstrip()\n",
    "\n",
    "# top_categories_sorted_h =top_categories_high.sort_values(by ='Count', ascending =False).head(20)\n",
    "# plt.figure(figsize=(12,8))\n",
    "# sns.barplot(x='Category',y='Count',data= top_categories_sorted_h) \n",
    "# plt.title(\"Ten Highly Ranked Categories in High Income Group\", fontsize=15)\n",
    "# plt.xlabel(\"\")\n",
    "# plt.ylabel(\"Count\",fontsize =15)\n",
    "# plt.xticks(\n",
    "#     rotation= 90, \n",
    "#     horizontalalignment='center',\n",
    "#     fontweight='light',\n",
    "#     fontsize='x-large')\n",
    "# plt.tight_layout();"
   ]
  },
  {
   "cell_type": "code",
   "execution_count": null,
   "metadata": {},
   "outputs": [],
   "source": [
    "top_reviewed_low = income_low[income_low[\"stars\"]>3 ]\n",
    "num_cat =10 # to show top 10 catrgories\n",
    "top_business = 30 # choose categories of top 30 businesses\n",
    "cat_data = top_business_data.sort_values(\"rated\")[::-1]\n",
    "cat_data.new_categories\n",
    "Categories={}\n",
    "for cat in cat_data.new_categories.values:\n",
    "    all_categories= cat.split(\",\")\n",
    "    for x in all_categories:\n",
    "        try :\n",
    "            Categories[x] =Categories[x]+1\n",
    "        except:\n",
    "            Categories[x]=1\n",
    "top_categories_low = pd.DataFrame.from_dict(data= Categories,orient=\"index\")\n",
    "top_categories_low.reset_index(inplace=True)\n",
    "top_categories_low.columns = ['Category', 'Count']"
   ]
  },
  {
   "cell_type": "code",
   "execution_count": null,
   "metadata": {},
   "outputs": [],
   "source": [
    "#plotting\n",
    "top_categories_low['Category'] = top_categories_low['Category'].str.lstrip()\n",
    "\n",
    "top_categories_sorted_l =top_categories_low.sort_values(by ='Count', ascending =False).head(20)\n",
    "plt.figure(figsize=(12,8))\n",
    "sns.barplot(x='Category',y='Count',data= top_categories_sorted_l) \n",
    "plt.title(\"Ten Highly Ranked Categories in Low Income Group\", fontsize=15)\n",
    "plt.xlabel(\"\")\n",
    "plt.ylabel(\"Count\",fontsize =15)\n",
    "plt.xticks(\n",
    "    rotation= 90, \n",
    "    horizontalalignment='center',\n",
    "    fontweight='light',\n",
    "    fontsize='x-large')\n",
    "plt.tight_layout();"
   ]
  },
  {
   "cell_type": "code",
   "execution_count": null,
   "metadata": {},
   "outputs": [],
   "source": [
    "#top_categories = top_categories.occurance.sort_values(ascending =False).head(20)"
   ]
  },
  {
   "cell_type": "code",
   "execution_count": null,
   "metadata": {},
   "outputs": [],
   "source": [
    "top_categories"
   ]
  },
  {
   "cell_type": "code",
   "execution_count": null,
   "metadata": {},
   "outputs": [],
   "source": [
    "#creating dummy for categories\n",
    "yelp_compiled_cat = yelp_compiled['new_categories'].str.get_dummies(',')\n",
    "#stripping trailing white space from the header after creating dummies\n",
    "yelp_compiled_cat = yelp_compiled_cat.rename(columns=lambda x: x.strip())\n",
    "#add up same named columns data after striping white space\n",
    "yelp_compiled_cat =yelp_compiled_cat.groupby(yelp_compiled_cat.columns, axis=1).sum(numeric_only=True)"
   ]
  },
  {
   "cell_type": "code",
   "execution_count": null,
   "metadata": {},
   "outputs": [],
   "source": [
    "#adding up each category\n",
    "yelp_categories =yelp_compiled_cat.sum(numeric_only =True)\n"
   ]
  },
  {
   "cell_type": "code",
   "execution_count": null,
   "metadata": {},
   "outputs": [],
   "source": [
    "yelp_compiled_cat['ethnic_food'] = yelp_compiled_cat[ 'Ethnic Food']+ yelp_compiled_cat['Greek'] +yelp_compiled_cat['Hawaiian'] + yelp_compiled_cat['Korean']\n",
    "yelp_compiled_cat['Latin American']+yelp_compiled_cat ['Mediterranean']+ yelp_compiled_cat['Middle Eastern'] +yelp_compiled_cat['Vietnamese']"
   ]
  },
  {
   "cell_type": "code",
   "execution_count": null,
   "metadata": {},
   "outputs": [],
   "source": [
    "yelp_compiled_cat = yelp_compiled_cat[yelp_compiled_cat.columns[yelp_compiled_cat.sum()>100]]"
   ]
  },
  {
   "cell_type": "code",
   "execution_count": null,
   "metadata": {},
   "outputs": [],
   "source": [
    "print(yelp_compiled_cat.shape)\n",
    "print(list(yelp_compiled_cat.columns))"
   ]
  },
  {
   "cell_type": "code",
   "execution_count": null,
   "metadata": {},
   "outputs": [],
   "source": [
    "yelp_compiled_cat['American'] = yelp_compiled_cat['American'].replace(2,1)\n",
    "yelp_compiled_cat['ethnic_food'] = yelp_compiled_cat['ethnic_food'].replace(2,1)"
   ]
  },
  {
   "cell_type": "code",
   "execution_count": null,
   "metadata": {},
   "outputs": [],
   "source": [
    "#cat_drop_list =[ 'Arts & Entertainment', 'Food','Event Planning & Services']\n",
    "yelp_compiled_cat = yelp_compiled_cat.drop(['Arts & Entertainment', 'Food','Event Planning & Services','Mediterranean'], axis =1)\n",
    "#changing column_name to lower case\n",
    "yelp_compiled_cat.columns = [re.sub(r\"\\s\", '_', x).lower() for x in yelp_compiled_cat]\n",
    "#joining category columns to origin dataframe\n",
    "yelp_compiled_new =yelp_compiled.join(yelp_compiled_cat)\n",
    "yelp_compiled_new.to_csv('Yelp_data/yelp_compiled_new.csv', index = False)"
   ]
  },
  {
   "cell_type": "code",
   "execution_count": null,
   "metadata": {},
   "outputs": [],
   "source": [
    "yelp_compiled_new =pd.read_csv('Yelp_data/yelp_compiled_new.csv')"
   ]
  },
  {
   "cell_type": "code",
   "execution_count": null,
   "metadata": {},
   "outputs": [],
   "source": [
    "plt.figure(figsize=(8,8))\n",
    "sns.scatterplot(data = yelp_compiled_new, x ='stars', y ='median_income')\n",
    "plt.xlabel('Stars');"
   ]
  },
  {
   "cell_type": "code",
   "execution_count": null,
   "metadata": {},
   "outputs": [],
   "source": [
    "# d = {'business_id':'business','price_range': 'avg_pric_range', 'romantic':'avg_romantic','intimate':'avg_intimate', 'touristy':'average_touristy', \n",
    "#      'hipster':'avg_hipster', 'divey':'avg_divey', 'classy':'avg_classey', 'trendy':'avg_trendy','upscale': 'avg_upscale',\n",
    "#      'casual':'avg_casual'}\n",
    "# yelp_compiled_tract =yelp_compiled_new.groupby(['census_tract','city'], as_index= False).agg({'review_count':'sum','stars':'mean','business_id':'count','price_range': 'mean', 'romantic':'mean', \n",
    "#                                                                                  'intimate':'mean', 'touristy':'mean', 'hipster':'mean', \n",
    "#                                                                                  'divey':'mean','classy':'mean', 'trendy':'mean','upscale': 'mean', \n",
    "#                                                                                  'casual':'mean', 'median_income':'mean', 'pop_2018':'mean',\n",
    "#                                                                                     'american':'mean', 'asian_fusion':'mean', 'bakeries':'mean', 'barbeque':'mean', 'bars':'mean', 'beer':'mean', 'breakfast_&_brunch':'mean', 'buffets':'mean',\n",
    "#                                                                                               'burgers':'mean', 'cafes':'mean', 'caterers':'mean', 'chicken_wings':'mean', 'chinese':'mean', 'cocktail_bars':'mean', 'coffee_&_tea':'mean', 'delis':'mean', \n",
    "#                                                                                               'desserts':'mean', 'diners':'mean', 'fast_food':'mean', 'italian':'mean', 'japanese':'mean', 'juice_bars_&_smoothies':'mean', 'lounges':'mean', 'mexican':'mean',\n",
    "#                                                                                               'nightlife':'mean', 'pizza':'mean', 'pubs':'mean', 'salad':'mean', 'sandwiches':'mean', 'seafood':'mean', 'soup':'mean', 'specialty_food':'mean', 'sports_bars':'mean', \n",
    "#                                                                                               'steakhouses':'mean', 'sushi_bars':'mean', 'thai':'mean', 'vegan':'mean', 'vegetarian':'mean', 'wine_&_spirits':'mean', 'wine_bars':'mean', 'ethnic_food':'mean', 'weighted_star':'sum'}).rename(columns=d)\n",
    "# yelp_compiled_tract['resturant_density'] = yelp_compiled_tract['pop_2018']/yelp_compiled_tract['business'] "
   ]
  },
  {
   "cell_type": "code",
   "execution_count": null,
   "metadata": {},
   "outputs": [],
   "source": [
    "d = {'business_id':'business'\n",
    "#      ,'price_range': 'avg_pric_range', 'romantic':'avg_romantic','intimate':'avg_intimate', 'touristy':'average_touristy', \n",
    "#      'hipster':'avg_hipster', 'divey':'avg_divey', 'classy':'avg_classey', 'trendy':'avg_trendy','upscale': 'avg_upscale',\n",
    "     }\n",
    "yelp_compiled_tract =yelp_compiled_new.groupby(['census_tract','city'], as_index= False).agg({'review_count':'sum','stars':'mean','business_id':'count','price_range': 'mean', 'romantic':'mean', \n",
    "                                                  'price_range': 'mean', 'romantic':'sum', 'intimate':'sum', 'touristy':'sum', 'hipster':'sum', \n",
    "                                                                                 'divey':'sum','classy':'sum', 'trendy':'sum','upscale': 'sum', \n",
    "                                                                                 'casual':'sum', 'median_income':'mean', 'pop_2018':'mean',\n",
    "                                                                                    'american':'sum', 'asian_fusion':'sum', 'bakeries':'sum', 'barbeque':'sum', 'bars':'sum', 'beer':'sum', 'breakfast_&_brunch':'sum', 'buffets':'sum',\n",
    "                                                                                              'burgers':'sum', 'cafes':'sum', 'caterers':'sum', 'chicken_wings':'sum', 'chinese':'sum', 'cocktail_bars':'sum', 'coffee_&_tea':'sum', 'delis':'sum', \n",
    "                                                                                              'desserts':'sum', 'diners':'sum', 'fast_food':'sum', 'italian':'sum', 'japanese':'sum', 'juice_bars_&_smoothies':'sum', 'lounges':'sum', 'mexican':'sum',\n",
    "                                                                                              'nightlife':'sum', 'pizza':'sum', 'pubs':'sum', 'salad':'sum', 'sandwiches':'sum', 'seafood':'sum', 'soup':'sum', 'specialty_food':'sum', 'sports_bars':'sum', \n",
    "                                                                                              'steakhouses':'sum', 'sushi_bars':'sum', 'thai':'sum', 'vegan':'sum', 'vegetarian':'sum', 'wine_&_spirits':'sum', 'wine_bars':'sum', 'ethnic_food':'sum','weighted_star':'sum'}).rename(columns=d)\n",
    "yelp_compiled_tract['restaurant_density'] = yelp_compiled_tract['business'] /yelp_compiled_tract['pop_2018']*100\n",
    "yelp_compiled_tract['income_range'] = yelp_compiled_tract['median_income'].apply(income_classifier)\n",
    "yelp_compiled_tract['ranking'] =yelp_compiled_tract['weighted_star']/617\n",
    "yelp_compiled_tract['average_review'] =yelp_compiled_tract['review_count']/yelp_compiled_tract['business'] "
   ]
  },
  {
   "cell_type": "code",
   "execution_count": null,
   "metadata": {},
   "outputs": [],
   "source": [
    "# columns_to_divide =[ 'romantic', 'intimate', 'touristy']\n",
    "yelp_compiled_tract[[ 'romantic', 'intimate', 'touristy', 'hipster', 'divey', 'classy', 'trendy', 'upscale', 'casual', 'american',\n",
    " 'asian_fusion', 'bakeries', 'barbeque', 'bars', 'beer', 'breakfast_&_brunch', 'buffets', 'burgers', 'cafes', 'caterers', 'chicken_wings', 'chinese',\n",
    " 'cocktail_bars', 'coffee_&_tea', 'delis', 'desserts', 'diners', 'fast_food', 'italian', 'japanese', 'juice_bars_&_smoothies', 'lounges',\n",
    " 'mexican', 'nightlife', 'pizza', 'pubs', 'salad', 'sandwiches', 'seafood', 'soup', 'specialty_food', 'sports_bars', 'steakhouses', 'sushi_bars',\n",
    " 'thai', 'vegan', 'vegetarian', 'wine_&_spirits', 'wine_bars', 'ethnic_food']] =yelp_compiled_tract[[ 'romantic', 'intimate', 'touristy', 'hipster', 'divey', 'classy', 'trendy', 'upscale', 'casual', 'american',\n",
    " 'asian_fusion', 'bakeries', 'barbeque', 'bars', 'beer', 'breakfast_&_brunch', 'buffets', 'burgers', 'cafes', 'caterers', 'chicken_wings', 'chinese',\n",
    " 'cocktail_bars', 'coffee_&_tea', 'delis', 'desserts', 'diners', 'fast_food', 'italian', 'japanese', 'juice_bars_&_smoothies', 'lounges',\n",
    " 'mexican', 'nightlife', 'pizza', 'pubs', 'salad', 'sandwiches', 'seafood', 'soup', 'specialty_food', 'sports_bars', 'steakhouses', 'sushi_bars',\n",
    " 'thai', 'vegan', 'vegetarian', 'wine_&_spirits', 'wine_bars', 'ethnic_food']].div(yelp_compiled_tract['business'].values,axis=0)\n"
   ]
  },
  {
   "cell_type": "code",
   "execution_count": null,
   "metadata": {},
   "outputs": [],
   "source": [
    "yelp_compiled_tract.restaurant_density = yelp_compiled_tract.restaurant_density.replace(np.inf, np.nan)"
   ]
  },
  {
   "cell_type": "code",
   "execution_count": null,
   "metadata": {
    "scrolled": false
   },
   "outputs": [],
   "source": [
    "yelp_compiled_tract=yelp_compiled_tract.dropna(axis =0)"
   ]
  },
  {
   "cell_type": "code",
   "execution_count": null,
   "metadata": {},
   "outputs": [],
   "source": [
    "yelp_compiled_tract.to_csv('Yelp_data/yelp_compiled_tract.csv', index = False)"
   ]
  },
  {
   "cell_type": "code",
   "execution_count": null,
   "metadata": {},
   "outputs": [],
   "source": [
    "from ipywidgets import interact\n",
    "@interact(y = ['restaurant_density', 'romantic', 'intimate', 'touristy', 'hipster', 'divey', 'classy', 'trendy', 'upscale', 'casual'])\n",
    "def make_scatter(y):\n",
    "    yelp_compiled_tract.plot(kind = 'scatter', x = 'median_income', y = y);"
   ]
  },
  {
   "cell_type": "code",
   "execution_count": null,
   "metadata": {},
   "outputs": [],
   "source": [
    "yelp_compiled_tract[yelp_compiled_tract['restaurant_density']> 30]"
   ]
  },
  {
   "cell_type": "code",
   "execution_count": null,
   "metadata": {},
   "outputs": [],
   "source": [
    "from ipywidgets import interact\n",
    "@interact(y = [ 'american',\n",
    " 'asian_fusion', 'bakeries', 'barbeque', 'bars', 'beer', 'breakfast_&_brunch', 'buffets', 'burgers', 'cafes', 'caterers', 'chicken_wings', 'chinese',\n",
    " 'cocktail_bars', 'coffee_&_tea', 'delis', 'desserts', 'diners', 'fast_food', 'italian', 'japanese', 'juice_bars_&_smoothies', 'lounges',\n",
    " 'mexican', 'nightlife', 'pizza', 'pubs', 'salad', 'sandwiches', 'seafood', 'soup', 'specialty_food', 'sports_bars', 'steakhouses', 'sushi_bars',\n",
    " 'thai', 'vegan', 'vegetarian', 'wine_&_spirits', 'wine_bars', 'ethnic_food'])\n",
    "def make_scatter(y):\n",
    "    yelp_compiled_tract.plot(kind = 'scatter', x = 'median_income', y = y);"
   ]
  },
  {
   "cell_type": "code",
   "execution_count": null,
   "metadata": {},
   "outputs": [],
   "source": [
    "import plotly.express as px"
   ]
  },
  {
   "cell_type": "code",
   "execution_count": null,
   "metadata": {},
   "outputs": [],
   "source": [
    "fig, ax = plt.subplots(figsize = (9,7))\n",
    "sns.boxplot(x = 'income_range', y = 'median_income', data = yelp_compiled_tract);"
   ]
  },
  {
   "cell_type": "code",
   "execution_count": null,
   "metadata": {},
   "outputs": [],
   "source": [
    "feature_cols = yelp_compiled_tract.columns.drop([ 'city', 'census_tract', 'median_income', 'income_range'])"
   ]
  },
  {
   "cell_type": "code",
   "execution_count": null,
   "metadata": {},
   "outputs": [],
   "source": [
    "X= yelp_compiled_tract[feature_cols]\n",
    "y= yelp_compiled_tract['income_range']"
   ]
  },
  {
   "cell_type": "code",
   "execution_count": null,
   "metadata": {},
   "outputs": [],
   "source": [
    "print(X.shape)\n",
    "print(y.shape)"
   ]
  },
  {
   "cell_type": "code",
   "execution_count": null,
   "metadata": {},
   "outputs": [],
   "source": [
    "X_train, X_test, y_train, y_test = train_test_split(X, y,test_size =0.3, random_state = 321)"
   ]
  },
  {
   "cell_type": "code",
   "execution_count": null,
   "metadata": {},
   "outputs": [],
   "source": [
    "from sklearn.linear_model import LogisticRegression\n",
    "from sklearn.preprocessing import StandardScaler"
   ]
  },
  {
   "cell_type": "code",
   "execution_count": null,
   "metadata": {
    "scrolled": false
   },
   "outputs": [],
   "source": [
    "scaler = StandardScaler()\n",
    "sc = StandardScaler()\n",
    "X_train = sc.fit_transform(X_train)\n",
    "X_test = sc.transform (X_test)"
   ]
  },
  {
   "cell_type": "code",
   "execution_count": null,
   "metadata": {},
   "outputs": [],
   "source": [
    "%time\n",
    "clf= LogisticRegression(solver='lbfgs',multi_class='multinomial')\n",
    "clf.fit(X_train, y_train)\n",
    "print('Coefficients: ', clf.coef_)\n",
    "print('Intercept: ', clf.intercept_)"
   ]
  },
  {
   "cell_type": "code",
   "execution_count": null,
   "metadata": {},
   "outputs": [],
   "source": [
    "probas = clf.predict_proba(X_train)\n",
    "preds = clf.predict(X_train)"
   ]
  },
  {
   "cell_type": "code",
   "execution_count": null,
   "metadata": {},
   "outputs": [],
   "source": [
    "y_pred = clf.predict(X_test)\n",
    "y_pred_proba = clf.predict_proba(X_test)"
   ]
  },
  {
   "cell_type": "code",
   "execution_count": null,
   "metadata": {},
   "outputs": [],
   "source": [
    "accuracy_score(y_test, y_pred)"
   ]
  },
  {
   "cell_type": "code",
   "execution_count": null,
   "metadata": {},
   "outputs": [],
   "source": [
    "# Print Classification report to look at precision, recall and f1 score\n",
    "print(classification_report(y_test,y_pred))"
   ]
  },
  {
   "cell_type": "code",
   "execution_count": null,
   "metadata": {},
   "outputs": [],
   "source": [
    "from sklearn import metrics\n",
    "# print accuracy scores\n",
    "print('Accuracy Score: ', accuracy_score(y_test, y_pred))\n",
    "print('F1 Score: ', metrics.f1_score(y_test,  y_pred, average='weighted'))"
   ]
  },
  {
   "cell_type": "code",
   "execution_count": null,
   "metadata": {},
   "outputs": [],
   "source": [
    "# print confusion matrix and plot the heatmap \n",
    "log_mod_cm = confusion_matrix(y_test,y_pred)\n",
    "print(log_mod_cm)\n",
    "# plot confusion matrix\n",
    "sns.set(rc={'figure.figsize':(8,6)}, font_scale=2)\n",
    "ax= plt.subplot()\n",
    "cm = confusion_matrix(y_test, y_pred)\n",
    "sns.heatmap(cm, annot=True, ax = ax, fmt='g', linewidths=.5, cmap='coolwarm'); #annot=True to annotate cells\n",
    "# labels, title and ticks\n",
    "ax.set_xlabel('Predicted')\n",
    "ax.set_ylabel('True')\n",
    "ax.set_title('Confusion Matrix')\n",
    "plt.tight_layout()"
   ]
  },
  {
   "cell_type": "code",
   "execution_count": null,
   "metadata": {},
   "outputs": [],
   "source": [
    "top15 = features.head(15)\n",
    "bottom15 =features.tail(15)\n",
    "top_features = pd.concat([top15,bottom15])\n",
    "top_features.head()"
   ]
  },
  {
   "cell_type": "code",
   "execution_count": null,
   "metadata": {},
   "outputs": [],
   "source": [
    "# plot the classifiers to visualize the class imbalance. \n",
    "sns.set(rc={'figure.figsize':(15,8)}, font_scale=1.6)\n",
    "sns.set_style(\"ticks\")\n",
    "sns.barplot(top_features.importance, top_features.feature, alpha=1)\n",
    "plt.title('Logmod Feature Importance', fontsize = 20)\n",
    "plt.ylabel('Features', fontsize=20)\n",
    "plt.xlabel('Feature Iportance', fontsize=20)\n",
    "plt.yticks(fontsize = 15)\n",
    "plt.tight_layout()"
   ]
  },
  {
   "cell_type": "code",
   "execution_count": null,
   "metadata": {},
   "outputs": [],
   "source": [
    "from imblearn.over_sampling import RandomOverSampler"
   ]
  },
  {
   "cell_type": "code",
   "execution_count": null,
   "metadata": {},
   "outputs": [],
   "source": [
    "# #binning year to date range\n",
    "# yelp_compiled_tract['income_bins'] = pd.cut(x=yelp_compiled_tract['median_income'], bins=[16206, 53383, 73199, 173056], labels =['Low','Medium','High'])"
   ]
  },
  {
   "cell_type": "code",
   "execution_count": null,
   "metadata": {},
   "outputs": [],
   "source": [
    "from imblearn.under_sampling import RandomUnderSampler\n",
    "#under sampler\n"
   ]
  },
  {
   "cell_type": "code",
   "execution_count": null,
   "metadata": {},
   "outputs": [],
   "source": [
    "undersampler = RandomUnderSampler(random_state = 321)\n",
    "X_resampled, y_resampled = undersampler.fit_resample(X_train, y_train)\n",
    "y_resampled.value_counts()"
   ]
  },
  {
   "cell_type": "code",
   "execution_count": null,
   "metadata": {},
   "outputs": [],
   "source": [
    "clf.fit(X_resampled, y_resampled)\n",
    "y_pred = clf.predict(X_test)\n",
    "print(accuracy_score(y_test, y_pred))\n",
    "print(confusion_matrix(y_test, y_pred))\n",
    "print(classification_report(y_test,y_pred))"
   ]
  },
  {
   "cell_type": "code",
   "execution_count": null,
   "metadata": {},
   "outputs": [],
   "source": [
    "#over sampler\n",
    "oversampler = RandomOverSampler(random_state = 321)\n",
    "X_resampled, y_resampled = oversampler.fit_resample(X_train, y_train)\n",
    "y_resampled.value_counts()"
   ]
  },
  {
   "cell_type": "code",
   "execution_count": null,
   "metadata": {},
   "outputs": [],
   "source": [
    "clf.fit(X_resampled, y_resampled)"
   ]
  },
  {
   "cell_type": "code",
   "execution_count": null,
   "metadata": {},
   "outputs": [],
   "source": [
    "y_pred = clf.predict(X_test)\n",
    "print(accuracy_score(y_test, y_pred))\n",
    "print(confusion_matrix(y_test, y_pred))\n",
    "print(classification_report(y_test,y_pred))\n"
   ]
  },
  {
   "cell_type": "code",
   "execution_count": null,
   "metadata": {},
   "outputs": [],
   "source": []
  },
  {
   "cell_type": "code",
   "execution_count": null,
   "metadata": {},
   "outputs": [],
   "source": [
    "#SMOTE Resmapling\n",
    "from imblearn.over_sampling import SMOTE"
   ]
  },
  {
   "cell_type": "code",
   "execution_count": null,
   "metadata": {},
   "outputs": [],
   "source": [
    "oversampler = SMOTE(k_neighbors =5, n_jobs =-1, random_state=321)\n",
    "X_smote, y_smote = oversampler.fit_resample(X_train, y_train)\n",
    "y_smote.value_counts()"
   ]
  },
  {
   "cell_type": "code",
   "execution_count": null,
   "metadata": {},
   "outputs": [],
   "source": [
    "clf.fit(X_smote, y_smote)"
   ]
  },
  {
   "cell_type": "code",
   "execution_count": null,
   "metadata": {},
   "outputs": [],
   "source": [
    "y_pred = clf.predict(X_test)\n",
    "print(accuracy_score(y_test, y_pred))\n",
    "print(confusion_matrix(y_test, y_pred))\n",
    "print(classification_report(y_test,y_pred))"
   ]
  },
  {
   "cell_type": "code",
   "execution_count": null,
   "metadata": {},
   "outputs": [],
   "source": [
    "@interact(City=yelp_compiled_tract.city.dropna().unique())\n",
    "def make_plot(City):\n",
    "    data= yelp_compiled_tract[yelp_compiled_tract.city==City].plot(kind='scatter',x='avg_pric_range',y='median_income'),\n",
    "    plt.xlabel('Price range'),\n",
    "    plt.ylabel('Median Income');"
   ]
  },
  {
   "cell_type": "code",
   "execution_count": null,
   "metadata": {},
   "outputs": [],
   "source": [
    "@interact(City=yelp_compiled_tract.city.dropna().unique())\n",
    "def make_plot(City):\n",
    "    data= yelp_compiled_tract[yelp_compiled_tract.city==City].plot(kind='scatter',x='avg_pric_range',y='median_income'),\n",
    "    plt.xlabel('Price range'),\n",
    "    plt.ylabel('Median Income');"
   ]
  },
  {
   "cell_type": "code",
   "execution_count": null,
   "metadata": {},
   "outputs": [],
   "source": [
    "from IPython.display import Image\n",
    "import plotly.express as px"
   ]
  },
  {
   "cell_type": "code",
   "execution_count": null,
   "metadata": {},
   "outputs": [],
   "source": [
    "\n",
    "fig = px.scatter(yelp_compiled_tract, x=\"restaurant_density\", y=\"median_income\", color =\"city\", trendline=\"ols\", labels ={ \"wins\":'Wins Percentage',\"total_salary\": \"Salary per Team\",\"year_bins\": \"Year Range\"},\n",
    "                 title =\"Corelation Between Stars and Median Income \")\n",
    "fig.show()"
   ]
  },
  {
   "cell_type": "code",
   "execution_count": null,
   "metadata": {},
   "outputs": [],
   "source": [
    "# fig = px.scatter(yelp_compiled_tract, x=\"stars\", y ='median_income', facet_col = \"income_bins\",color =\"city\")\n",
    "# #                 title =\"Total Salary Over The Years : 2000 - 2016\")\n",
    "# fig.show()"
   ]
  },
  {
   "cell_type": "code",
   "execution_count": null,
   "metadata": {},
   "outputs": [],
   "source": []
  }
 ],
 "metadata": {
  "kernelspec": {
   "display_name": "Python 3",
   "language": "python",
   "name": "python3"
  },
  "language_info": {
   "codemirror_mode": {
    "name": "ipython",
    "version": 3
   },
   "file_extension": ".py",
   "mimetype": "text/x-python",
   "name": "python",
   "nbconvert_exporter": "python",
   "pygments_lexer": "ipython3",
   "version": "3.7.3"
  }
 },
 "nbformat": 4,
 "nbformat_minor": 2
}
