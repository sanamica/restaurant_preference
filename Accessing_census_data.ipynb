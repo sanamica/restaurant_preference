{
 "cells": [
  {
   "cell_type": "code",
   "execution_count": 3,
   "metadata": {},
   "outputs": [],
   "source": [
    "import pandas as pd\n",
    "import censusdata\n",
    "pd.set_option('display.expand_frame_repr', False)\n",
    "pd.set_option('display.precision', 2)"
   ]
  },
  {
   "cell_type": "code",
   "execution_count": 18,
   "metadata": {},
   "outputs": [],
   "source": [
    "# searcnig tables with income ACS 5 for 2018 \n",
    "sample = censusdata.search('acs5', 2018,'concept', 'median household income')"
   ]
  },
  {
   "cell_type": "code",
   "execution_count": 19,
   "metadata": {},
   "outputs": [
    {
     "data": {
      "text/plain": [
       "34"
      ]
     },
     "execution_count": 19,
     "metadata": {},
     "output_type": "execute_result"
    }
   ],
   "source": [
    "len(sample)"
   ]
  },
  {
   "cell_type": "code",
   "execution_count": 20,
   "metadata": {},
   "outputs": [
    {
     "data": {
      "text/plain": [
       "[('B19013A_001E',\n",
       "  'MEDIAN HOUSEHOLD INCOME IN THE PAST 12 MONTHS (IN 2018 INFLATION-ADJUSTED DOLLARS) (WHITE ALONE HOUSEHOLDER)',\n",
       "  'Estimate!!Median household income in the past 12 months (in 2018 inflation-adjusted dollars)'),\n",
       " ('B19013B_001E',\n",
       "  'MEDIAN HOUSEHOLD INCOME IN THE PAST 12 MONTHS (IN 2018 INFLATION-ADJUSTED DOLLARS) (BLACK OR AFRICAN AMERICAN ALONE HOUSEHOLDER)',\n",
       "  'Estimate!!Median household income in the past 12 months (in 2018 inflation-adjusted dollars)'),\n",
       " ('B19013C_001E',\n",
       "  'MEDIAN HOUSEHOLD INCOME IN THE PAST 12 MONTHS (IN 2018 INFLATION-ADJUSTED DOLLARS) (AMERICAN INDIAN AND ALASKA NATIVE ALONE HOUSEHOLDER)',\n",
       "  'Estimate!!Median household income in the past 12 months (in 2018 inflation-adjusted dollars)'),\n",
       " ('B19013D_001E',\n",
       "  'MEDIAN HOUSEHOLD INCOME IN THE PAST 12 MONTHS (IN 2018 INFLATION-ADJUSTED DOLLARS) (ASIAN ALONE HOUSEHOLDER)',\n",
       "  'Estimate!!Median household income in the past 12 months (in 2018 inflation-adjusted dollars)'),\n",
       " ('B19013E_001E',\n",
       "  'MEDIAN HOUSEHOLD INCOME IN THE PAST 12 MONTHS (IN 2018 INFLATION-ADJUSTED DOLLARS) (NATIVE HAWAIIAN AND OTHER PACIFIC ISLANDER ALONE HOUSEHOLDER)',\n",
       "  'Estimate!!Median household income in the past 12 months (in 2018 inflation-adjusted dollars)'),\n",
       " ('B19013F_001E',\n",
       "  'MEDIAN HOUSEHOLD INCOME IN THE PAST 12 MONTHS (IN 2018 INFLATION-ADJUSTED DOLLARS) (SOME OTHER RACE ALONE HOUSEHOLDER)',\n",
       "  'Estimate!!Median household income in the past 12 months (in 2018 inflation-adjusted dollars)'),\n",
       " ('B19013G_001E',\n",
       "  'MEDIAN HOUSEHOLD INCOME IN THE PAST 12 MONTHS (IN 2018 INFLATION-ADJUSTED DOLLARS) (TWO OR MORE RACES HOUSEHOLDER)',\n",
       "  'Estimate!!Median household income in the past 12 months (in 2018 inflation-adjusted dollars)'),\n",
       " ('B19013H_001E',\n",
       "  'MEDIAN HOUSEHOLD INCOME IN THE PAST 12 MONTHS (IN 2018 INFLATION-ADJUSTED DOLLARS) (WHITE ALONE, NOT HISPANIC OR LATINO HOUSEHOLDER)',\n",
       "  'Estimate!!Median household income in the past 12 months (in 2018 inflation-adjusted dollars)'),\n",
       " ('B19013I_001E',\n",
       "  'MEDIAN HOUSEHOLD INCOME IN THE PAST 12 MONTHS (IN 2018 INFLATION-ADJUSTED DOLLARS) (HISPANIC OR LATINO HOUSEHOLDER)',\n",
       "  'Estimate!!Median household income in the past 12 months (in 2018 inflation-adjusted dollars)'),\n",
       " ('B19013_001E',\n",
       "  'MEDIAN HOUSEHOLD INCOME IN THE PAST 12 MONTHS (IN 2018 INFLATION-ADJUSTED DOLLARS)',\n",
       "  'Estimate!!Median household income in the past 12 months (in 2018 inflation-adjusted dollars)')]"
      ]
     },
     "execution_count": 20,
     "metadata": {},
     "output_type": "execute_result"
    }
   ],
   "source": [
    "sample[0:10]"
   ]
  },
  {
   "cell_type": "code",
   "execution_count": 25,
   "metadata": {},
   "outputs": [
    {
     "name": "stdout",
     "output_type": "stream",
     "text": [
      "Variable     | Table                          | Label                                                    | Type \n",
      "-------------------------------------------------------------------------------------------------------------------\n",
      "B15003_001E  | EDUCATIONAL ATTAINMENT FOR THE | !! Estimate Total                                        | int  \n",
      "B15003_002E  | EDUCATIONAL ATTAINMENT FOR THE | !! !! Estimate Total No schooling completed              | int  \n",
      "B15003_003E  | EDUCATIONAL ATTAINMENT FOR THE | !! !! Estimate Total Nursery school                      | int  \n",
      "B15003_004E  | EDUCATIONAL ATTAINMENT FOR THE | !! !! Estimate Total Kindergarten                        | int  \n",
      "B15003_005E  | EDUCATIONAL ATTAINMENT FOR THE | !! !! Estimate Total 1st grade                           | int  \n",
      "B15003_006E  | EDUCATIONAL ATTAINMENT FOR THE | !! !! Estimate Total 2nd grade                           | int  \n",
      "B15003_007E  | EDUCATIONAL ATTAINMENT FOR THE | !! !! Estimate Total 3rd grade                           | int  \n",
      "B15003_008E  | EDUCATIONAL ATTAINMENT FOR THE | !! !! Estimate Total 4th grade                           | int  \n",
      "B15003_009E  | EDUCATIONAL ATTAINMENT FOR THE | !! !! Estimate Total 5th grade                           | int  \n",
      "B15003_010E  | EDUCATIONAL ATTAINMENT FOR THE | !! !! Estimate Total 6th grade                           | int  \n",
      "B15003_011E  | EDUCATIONAL ATTAINMENT FOR THE | !! !! Estimate Total 7th grade                           | int  \n",
      "B15003_012E  | EDUCATIONAL ATTAINMENT FOR THE | !! !! Estimate Total 8th grade                           | int  \n",
      "B15003_013E  | EDUCATIONAL ATTAINMENT FOR THE | !! !! Estimate Total 9th grade                           | int  \n",
      "B15003_014E  | EDUCATIONAL ATTAINMENT FOR THE | !! !! Estimate Total 10th grade                          | int  \n",
      "B15003_015E  | EDUCATIONAL ATTAINMENT FOR THE | !! !! Estimate Total 11th grade                          | int  \n",
      "B15003_016E  | EDUCATIONAL ATTAINMENT FOR THE | !! !! Estimate Total 12th grade, no diploma              | int  \n",
      "B15003_017E  | EDUCATIONAL ATTAINMENT FOR THE | !! !! Estimate Total Regular high school diploma         | int  \n",
      "B15003_018E  | EDUCATIONAL ATTAINMENT FOR THE | !! !! Estimate Total GED or alternative credential       | int  \n",
      "B15003_019E  | EDUCATIONAL ATTAINMENT FOR THE | !! !! Estimate Total Some college, less than 1 year      | int  \n",
      "B15003_020E  | EDUCATIONAL ATTAINMENT FOR THE | !! !! Estimate Total Some college, 1 or more years, no d | int  \n",
      "B15003_021E  | EDUCATIONAL ATTAINMENT FOR THE | !! !! Estimate Total Associate's degree                  | int  \n",
      "B15003_022E  | EDUCATIONAL ATTAINMENT FOR THE | !! !! Estimate Total Bachelor's degree                   | int  \n",
      "B15003_023E  | EDUCATIONAL ATTAINMENT FOR THE | !! !! Estimate Total Master's degree                     | int  \n",
      "B15003_024E  | EDUCATIONAL ATTAINMENT FOR THE | !! !! Estimate Total Professional school degree          | int  \n",
      "B15003_025E  | EDUCATIONAL ATTAINMENT FOR THE | !! !! Estimate Total Doctorate degree                    | int  \n",
      "-------------------------------------------------------------------------------------------------------------------\n"
     ]
    }
   ],
   "source": [
    "# Printing table\n",
    "censusdata.printtable(censusdata.censustable('acs5', 2018, 'B15003'))"
   ]
  },
  {
   "cell_type": "code",
   "execution_count": 23,
   "metadata": {},
   "outputs": [
    {
     "data": {
      "text/plain": [
       "{'Minnesota': censusgeo((('state', '27'),)),\n",
       " 'Mississippi': censusgeo((('state', '28'),)),\n",
       " 'Missouri': censusgeo((('state', '29'),)),\n",
       " 'Montana': censusgeo((('state', '30'),)),\n",
       " 'Nebraska': censusgeo((('state', '31'),)),\n",
       " 'Nevada': censusgeo((('state', '32'),)),\n",
       " 'New Hampshire': censusgeo((('state', '33'),)),\n",
       " 'New Jersey': censusgeo((('state', '34'),)),\n",
       " 'New Mexico': censusgeo((('state', '35'),)),\n",
       " 'New York': censusgeo((('state', '36'),)),\n",
       " 'North Carolina': censusgeo((('state', '37'),)),\n",
       " 'North Dakota': censusgeo((('state', '38'),)),\n",
       " 'Ohio': censusgeo((('state', '39'),)),\n",
       " 'Oklahoma': censusgeo((('state', '40'),)),\n",
       " 'Oregon': censusgeo((('state', '41'),)),\n",
       " 'Pennsylvania': censusgeo((('state', '42'),)),\n",
       " 'Rhode Island': censusgeo((('state', '44'),)),\n",
       " 'South Carolina': censusgeo((('state', '45'),)),\n",
       " 'South Dakota': censusgeo((('state', '46'),)),\n",
       " 'Tennessee': censusgeo((('state', '47'),)),\n",
       " 'Texas': censusgeo((('state', '48'),)),\n",
       " 'Utah': censusgeo((('state', '49'),)),\n",
       " 'Vermont': censusgeo((('state', '50'),)),\n",
       " 'Virginia': censusgeo((('state', '51'),)),\n",
       " 'West Virginia': censusgeo((('state', '54'),)),\n",
       " 'Washington': censusgeo((('state', '53'),)),\n",
       " 'Wisconsin': censusgeo((('state', '55'),)),\n",
       " 'Wyoming': censusgeo((('state', '56'),)),\n",
       " 'Puerto Rico': censusgeo((('state', '72'),)),\n",
       " 'Alabama': censusgeo((('state', '01'),)),\n",
       " 'Alaska': censusgeo((('state', '02'),)),\n",
       " 'Arizona': censusgeo((('state', '04'),)),\n",
       " 'Arkansas': censusgeo((('state', '05'),)),\n",
       " 'California': censusgeo((('state', '06'),)),\n",
       " 'Colorado': censusgeo((('state', '08'),)),\n",
       " 'Connecticut': censusgeo((('state', '09'),)),\n",
       " 'Delaware': censusgeo((('state', '10'),)),\n",
       " 'District of Columbia': censusgeo((('state', '11'),)),\n",
       " 'Florida': censusgeo((('state', '12'),)),\n",
       " 'Georgia': censusgeo((('state', '13'),)),\n",
       " 'Idaho': censusgeo((('state', '16'),)),\n",
       " 'Hawaii': censusgeo((('state', '15'),)),\n",
       " 'Illinois': censusgeo((('state', '17'),)),\n",
       " 'Indiana': censusgeo((('state', '18'),)),\n",
       " 'Iowa': censusgeo((('state', '19'),)),\n",
       " 'Kansas': censusgeo((('state', '20'),)),\n",
       " 'Kentucky': censusgeo((('state', '21'),)),\n",
       " 'Louisiana': censusgeo((('state', '22'),)),\n",
       " 'Maine': censusgeo((('state', '23'),)),\n",
       " 'Maryland': censusgeo((('state', '24'),)),\n",
       " 'Massachusetts': censusgeo((('state', '25'),)),\n",
       " 'Michigan': censusgeo((('state', '26'),))}"
      ]
     },
     "execution_count": 23,
     "metadata": {},
     "output_type": "execute_result"
    }
   ],
   "source": [
    "#finding geography\n",
    "censusdata.geographies(censusdata.censusgeo([('state', '*')]), 'acs5', 2018)"
   ]
  },
  {
   "cell_type": "code",
   "execution_count": 30,
   "metadata": {},
   "outputs": [
    {
     "data": {
      "text/plain": [
       "{'Maury County, Tennessee': censusgeo((('state', '47'), ('county', '119'))),\n",
       " 'Union County, Tennessee': censusgeo((('state', '47'), ('county', '173'))),\n",
       " 'Montgomery County, Tennessee': censusgeo((('state', '47'), ('county', '125'))),\n",
       " 'Dickson County, Tennessee': censusgeo((('state', '47'), ('county', '043'))),\n",
       " 'Morgan County, Tennessee': censusgeo((('state', '47'), ('county', '129'))),\n",
       " 'Grundy County, Tennessee': censusgeo((('state', '47'), ('county', '061'))),\n",
       " 'Monroe County, Tennessee': censusgeo((('state', '47'), ('county', '123'))),\n",
       " 'Henry County, Tennessee': censusgeo((('state', '47'), ('county', '079'))),\n",
       " 'Cocke County, Tennessee': censusgeo((('state', '47'), ('county', '029'))),\n",
       " 'Crockett County, Tennessee': censusgeo((('state', '47'), ('county', '033'))),\n",
       " 'DeKalb County, Tennessee': censusgeo((('state', '47'), ('county', '041'))),\n",
       " 'Lake County, Tennessee': censusgeo((('state', '47'), ('county', '095'))),\n",
       " 'Knox County, Tennessee': censusgeo((('state', '47'), ('county', '093'))),\n",
       " 'Lewis County, Tennessee': censusgeo((('state', '47'), ('county', '101'))),\n",
       " 'McMinn County, Tennessee': censusgeo((('state', '47'), ('county', '107'))),\n",
       " 'Marshall County, Tennessee': censusgeo((('state', '47'), ('county', '117'))),\n",
       " 'Obion County, Tennessee': censusgeo((('state', '47'), ('county', '131'))),\n",
       " 'Rhea County, Tennessee': censusgeo((('state', '47'), ('county', '143'))),\n",
       " 'Scott County, Tennessee': censusgeo((('state', '47'), ('county', '151'))),\n",
       " 'Tipton County, Tennessee': censusgeo((('state', '47'), ('county', '167'))),\n",
       " 'Anderson County, Tennessee': censusgeo((('state', '47'), ('county', '001'))),\n",
       " 'Dyer County, Tennessee': censusgeo((('state', '47'), ('county', '045'))),\n",
       " 'Fentress County, Tennessee': censusgeo((('state', '47'), ('county', '049'))),\n",
       " 'Gibson County, Tennessee': censusgeo((('state', '47'), ('county', '053'))),\n",
       " 'Hamilton County, Tennessee': censusgeo((('state', '47'), ('county', '065'))),\n",
       " 'Loudon County, Tennessee': censusgeo((('state', '47'), ('county', '105'))),\n",
       " 'Rutherford County, Tennessee': censusgeo((('state', '47'), ('county', '149'))),\n",
       " 'Smith County, Tennessee': censusgeo((('state', '47'), ('county', '159'))),\n",
       " 'Wilson County, Tennessee': censusgeo((('state', '47'), ('county', '189'))),\n",
       " 'Sullivan County, Tennessee': censusgeo((('state', '47'), ('county', '163'))),\n",
       " 'Warren County, Tennessee': censusgeo((('state', '47'), ('county', '177'))),\n",
       " 'Washington County, Tennessee': censusgeo((('state', '47'), ('county', '179'))),\n",
       " 'Benton County, Tennessee': censusgeo((('state', '47'), ('county', '005'))),\n",
       " 'Campbell County, Tennessee': censusgeo((('state', '47'), ('county', '013'))),\n",
       " 'Cannon County, Tennessee': censusgeo((('state', '47'), ('county', '015'))),\n",
       " 'Fayette County, Tennessee': censusgeo((('state', '47'), ('county', '047'))),\n",
       " 'Hancock County, Tennessee': censusgeo((('state', '47'), ('county', '067'))),\n",
       " 'Johnson County, Tennessee': censusgeo((('state', '47'), ('county', '091'))),\n",
       " 'Lincoln County, Tennessee': censusgeo((('state', '47'), ('county', '103'))),\n",
       " 'Moore County, Tennessee': censusgeo((('state', '47'), ('county', '127'))),\n",
       " 'Franklin County, Tennessee': censusgeo((('state', '47'), ('county', '051'))),\n",
       " 'Blount County, Tennessee': censusgeo((('state', '47'), ('county', '009'))),\n",
       " 'Lawrence County, Tennessee': censusgeo((('state', '47'), ('county', '099'))),\n",
       " 'Carter County, Tennessee': censusgeo((('state', '47'), ('county', '019'))),\n",
       " 'Grainger County, Tennessee': censusgeo((('state', '47'), ('county', '057'))),\n",
       " 'Lauderdale County, Tennessee': censusgeo((('state', '47'), ('county', '097'))),\n",
       " 'Marion County, Tennessee': censusgeo((('state', '47'), ('county', '115'))),\n",
       " 'Overton County, Tennessee': censusgeo((('state', '47'), ('county', '133'))),\n",
       " 'Sumner County, Tennessee': censusgeo((('state', '47'), ('county', '165'))),\n",
       " 'Trousdale County, Tennessee': censusgeo((('state', '47'), ('county', '169'))),\n",
       " 'Williamson County, Tennessee': censusgeo((('state', '47'), ('county', '187'))),\n",
       " 'Clay County, Tennessee': censusgeo((('state', '47'), ('county', '027'))),\n",
       " 'Greene County, Tennessee': censusgeo((('state', '47'), ('county', '059'))),\n",
       " 'Shelby County, Tennessee': censusgeo((('state', '47'), ('county', '157'))),\n",
       " 'Van Buren County, Tennessee': censusgeo((('state', '47'), ('county', '175'))),\n",
       " 'Henderson County, Tennessee': censusgeo((('state', '47'), ('county', '077'))),\n",
       " 'Hickman County, Tennessee': censusgeo((('state', '47'), ('county', '081'))),\n",
       " 'Jefferson County, Tennessee': censusgeo((('state', '47'), ('county', '089'))),\n",
       " 'Sequatchie County, Tennessee': censusgeo((('state', '47'), ('county', '153'))),\n",
       " 'Sevier County, Tennessee': censusgeo((('state', '47'), ('county', '155'))),\n",
       " 'Carroll County, Tennessee': censusgeo((('state', '47'), ('county', '017'))),\n",
       " 'Chester County, Tennessee': censusgeo((('state', '47'), ('county', '023'))),\n",
       " 'Davidson County, Tennessee': censusgeo((('state', '47'), ('county', '037'))),\n",
       " 'Jackson County, Tennessee': censusgeo((('state', '47'), ('county', '087'))),\n",
       " 'Perry County, Tennessee': censusgeo((('state', '47'), ('county', '135'))),\n",
       " 'Roane County, Tennessee': censusgeo((('state', '47'), ('county', '145'))),\n",
       " 'Meigs County, Tennessee': censusgeo((('state', '47'), ('county', '121'))),\n",
       " 'Hamblen County, Tennessee': censusgeo((('state', '47'), ('county', '063'))),\n",
       " 'Haywood County, Tennessee': censusgeo((('state', '47'), ('county', '075'))),\n",
       " 'Houston County, Tennessee': censusgeo((('state', '47'), ('county', '083'))),\n",
       " 'Hardin County, Tennessee': censusgeo((('state', '47'), ('county', '071'))),\n",
       " 'Hardeman County, Tennessee': censusgeo((('state', '47'), ('county', '069'))),\n",
       " 'Polk County, Tennessee': censusgeo((('state', '47'), ('county', '139'))),\n",
       " 'White County, Tennessee': censusgeo((('state', '47'), ('county', '185'))),\n",
       " 'Unicoi County, Tennessee': censusgeo((('state', '47'), ('county', '171'))),\n",
       " 'Weakley County, Tennessee': censusgeo((('state', '47'), ('county', '183'))),\n",
       " 'Bledsoe County, Tennessee': censusgeo((('state', '47'), ('county', '007'))),\n",
       " 'Coffee County, Tennessee': censusgeo((('state', '47'), ('county', '031'))),\n",
       " 'Hawkins County, Tennessee': censusgeo((('state', '47'), ('county', '073'))),\n",
       " 'Macon County, Tennessee': censusgeo((('state', '47'), ('county', '111'))),\n",
       " 'Robertson County, Tennessee': censusgeo((('state', '47'), ('county', '147'))),\n",
       " 'Cheatham County, Tennessee': censusgeo((('state', '47'), ('county', '021'))),\n",
       " 'Giles County, Tennessee': censusgeo((('state', '47'), ('county', '055'))),\n",
       " 'Madison County, Tennessee': censusgeo((('state', '47'), ('county', '113'))),\n",
       " 'Pickett County, Tennessee': censusgeo((('state', '47'), ('county', '137'))),\n",
       " 'Wayne County, Tennessee': censusgeo((('state', '47'), ('county', '181'))),\n",
       " 'Bedford County, Tennessee': censusgeo((('state', '47'), ('county', '003'))),\n",
       " 'Cumberland County, Tennessee': censusgeo((('state', '47'), ('county', '035'))),\n",
       " 'Claiborne County, Tennessee': censusgeo((('state', '47'), ('county', '025'))),\n",
       " 'Humphreys County, Tennessee': censusgeo((('state', '47'), ('county', '085'))),\n",
       " 'Putnam County, Tennessee': censusgeo((('state', '47'), ('county', '141'))),\n",
       " 'Stewart County, Tennessee': censusgeo((('state', '47'), ('county', '161'))),\n",
       " 'Decatur County, Tennessee': censusgeo((('state', '47'), ('county', '039'))),\n",
       " 'McNairy County, Tennessee': censusgeo((('state', '47'), ('county', '109'))),\n",
       " 'Bradley County, Tennessee': censusgeo((('state', '47'), ('county', '011')))}"
      ]
     },
     "execution_count": 30,
     "metadata": {},
     "output_type": "execute_result"
    }
   ],
   "source": [
    "#selecting Nevada and getting county names\n",
    "censusdata.geographies(censusdata.censusgeo([('state', '47'), ('county', '*')]), 'acs5', 2018)\n"
   ]
  },
  {
   "cell_type": "code",
   "execution_count": 28,
   "metadata": {},
   "outputs": [],
   "source": [
    "#Downloading all block level information for clark county (las vegas 32, 003)\n",
    "vegas_census = censusdata.download('acs5', 2018,\n",
    "                             censusdata.censusgeo([('state', '32'), ('county', '003'), ('block group', '*')]),\n",
    "                                   ['B02001_001E','B19013_001E', 'B02001_002E', 'B02001_003E','B02001_004E', 'B02001_005E', \n",
    "                                    'B02001_006E'])"
   ]
  },
  {
   "cell_type": "code",
   "execution_count": 36,
   "metadata": {},
   "outputs": [
    {
     "data": {
      "text/html": [
       "<div>\n",
       "<style scoped>\n",
       "    .dataframe tbody tr th:only-of-type {\n",
       "        vertical-align: middle;\n",
       "    }\n",
       "\n",
       "    .dataframe tbody tr th {\n",
       "        vertical-align: top;\n",
       "    }\n",
       "\n",
       "    .dataframe thead th {\n",
       "        text-align: right;\n",
       "    }\n",
       "</style>\n",
       "<table border=\"1\" class=\"dataframe\">\n",
       "  <thead>\n",
       "    <tr style=\"text-align: right;\">\n",
       "      <th></th>\n",
       "      <th>B02001_001E</th>\n",
       "      <th>B19013_001E</th>\n",
       "      <th>B02001_002E</th>\n",
       "      <th>B02001_003E</th>\n",
       "      <th>B02001_004E</th>\n",
       "      <th>B02001_005E</th>\n",
       "      <th>B02001_006E</th>\n",
       "      <th>B15003_001E</th>\n",
       "    </tr>\n",
       "  </thead>\n",
       "  <tbody>\n",
       "    <tr>\n",
       "      <th>Block Group 1, Census Tract 33.13, Clark County, Nevada: Summary level: 150, state:32&gt; county:003&gt; tract:003313&gt; block group:1</th>\n",
       "      <td>2360</td>\n",
       "      <td>84194</td>\n",
       "      <td>1670</td>\n",
       "      <td>379</td>\n",
       "      <td>0</td>\n",
       "      <td>93</td>\n",
       "      <td>16</td>\n",
       "      <td>1197</td>\n",
       "    </tr>\n",
       "    <tr>\n",
       "      <th>Block Group 2, Census Tract 33.13, Clark County, Nevada: Summary level: 150, state:32&gt; county:003&gt; tract:003313&gt; block group:2</th>\n",
       "      <td>1195</td>\n",
       "      <td>70769</td>\n",
       "      <td>869</td>\n",
       "      <td>114</td>\n",
       "      <td>0</td>\n",
       "      <td>69</td>\n",
       "      <td>23</td>\n",
       "      <td>767</td>\n",
       "    </tr>\n",
       "    <tr>\n",
       "      <th>Block Group 1, Census Tract 33.14, Clark County, Nevada: Summary level: 150, state:32&gt; county:003&gt; tract:003314&gt; block group:1</th>\n",
       "      <td>1363</td>\n",
       "      <td>66014</td>\n",
       "      <td>843</td>\n",
       "      <td>160</td>\n",
       "      <td>0</td>\n",
       "      <td>67</td>\n",
       "      <td>0</td>\n",
       "      <td>1014</td>\n",
       "    </tr>\n",
       "    <tr>\n",
       "      <th>Block Group 2, Census Tract 33.14, Clark County, Nevada: Summary level: 150, state:32&gt; county:003&gt; tract:003314&gt; block group:2</th>\n",
       "      <td>2240</td>\n",
       "      <td>133068</td>\n",
       "      <td>1926</td>\n",
       "      <td>0</td>\n",
       "      <td>0</td>\n",
       "      <td>50</td>\n",
       "      <td>154</td>\n",
       "      <td>1449</td>\n",
       "    </tr>\n",
       "    <tr>\n",
       "      <th>Block Group 3, Census Tract 33.14, Clark County, Nevada: Summary level: 150, state:32&gt; county:003&gt; tract:003314&gt; block group:3</th>\n",
       "      <td>1545</td>\n",
       "      <td>107105</td>\n",
       "      <td>1312</td>\n",
       "      <td>103</td>\n",
       "      <td>0</td>\n",
       "      <td>67</td>\n",
       "      <td>0</td>\n",
       "      <td>1012</td>\n",
       "    </tr>\n",
       "  </tbody>\n",
       "</table>\n",
       "</div>"
      ],
      "text/plain": [
       "                                                    B02001_001E  B19013_001E  B02001_002E  B02001_003E  B02001_004E  B02001_005E  B02001_006E  B15003_001E\n",
       "Block Group 1, Census Tract 33.13, Clark County...         2360        84194         1670          379            0           93           16         1197\n",
       "Block Group 2, Census Tract 33.13, Clark County...         1195        70769          869          114            0           69           23          767\n",
       "Block Group 1, Census Tract 33.14, Clark County...         1363        66014          843          160            0           67            0         1014\n",
       "Block Group 2, Census Tract 33.14, Clark County...         2240       133068         1926            0            0           50          154         1449\n",
       "Block Group 3, Census Tract 33.14, Clark County...         1545       107105         1312          103            0           67            0         1012"
      ]
     },
     "execution_count": 36,
     "metadata": {},
     "output_type": "execute_result"
    }
   ],
   "source": [
    "vegas_census.head()\n",
    "# 'Median_Income' = B19013_001E, 'Total_Pop' = B02001_001E, 'White_Pop' = B02001_002E, 'African_American_Pop' = B02001_003E,\n",
    "#          'Native_American_Pop' = B02001_004E, 'Asian_Pop' = B02001_005E, 'Hawain_Pacisld_Pop'= B02001_006E"
   ]
  },
  {
   "cell_type": "code",
   "execution_count": 31,
   "metadata": {},
   "outputs": [],
   "source": [
    "will_census = censusdata.download('acs5', 2018,\n",
    "                             censusdata.censusgeo([('state', '47'), ('county', '187'), ('block group', '*')]),\n",
    "                                   ['B02001_001E','B19013_001E', 'B02001_002E', 'B02001_003E','B02001_004E', 'B02001_005E', \n",
    "                                    'B02001_006E', 'B15003_001E'])"
   ]
  },
  {
   "cell_type": "code",
   "execution_count": 34,
   "metadata": {},
   "outputs": [
    {
     "data": {
      "text/plain": [
       "(81, 8)"
      ]
     },
     "execution_count": 34,
     "metadata": {},
     "output_type": "execute_result"
    }
   ],
   "source": [
    "will_census.shape"
   ]
  }
 ],
 "metadata": {
  "kernelspec": {
   "display_name": "Python 3",
   "language": "python",
   "name": "python3"
  },
  "language_info": {
   "codemirror_mode": {
    "name": "ipython",
    "version": 3
   },
   "file_extension": ".py",
   "mimetype": "text/x-python",
   "name": "python",
   "nbconvert_exporter": "python",
   "pygments_lexer": "ipython3",
   "version": "3.7.3"
  }
 },
 "nbformat": 4,
 "nbformat_minor": 2
}
