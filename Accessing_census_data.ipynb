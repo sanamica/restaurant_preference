{
 "cells": [
  {
   "cell_type": "code",
   "execution_count": null,
   "metadata": {},
   "outputs": [],
   "source": [
    "import numpy as np\n",
    "import shapefile as shp\n",
    "import matplotlib.pyplot as plt\n",
    "import seaborn as sns\n",
    "import geopandas as gpd\n",
    "%matplotlib inline\n",
    "import pandas as pd\n",
    "import censusdata\n",
    "pd.set_option('display.expand_frame_repr', False)\n",
    "pd.set_option('display.precision', 2)\n",
    "pd.set_option('display.max_colwidth', None)\n",
    "pd.set_option('float_format', '{:f}'.format)"
   ]
  },
  {
   "cell_type": "code",
   "execution_count": null,
   "metadata": {},
   "outputs": [],
   "source": [
    "# searcnig tables with income ACS 5 for 2018 \n",
    "sample = censusdata.search('acs5', 2018,'concept', 'median household income')"
   ]
  },
  {
   "cell_type": "code",
   "execution_count": null,
   "metadata": {},
   "outputs": [],
   "source": [
    "len(sample)"
   ]
  },
  {
   "cell_type": "code",
   "execution_count": null,
   "metadata": {},
   "outputs": [],
   "source": [
    "sample[0:10]"
   ]
  },
  {
   "cell_type": "code",
   "execution_count": null,
   "metadata": {},
   "outputs": [],
   "source": [
    "# Printing table\n",
    "censusdata.printtable(censusdata.censustable('acs5', 2018, 'B15003'))"
   ]
  },
  {
   "cell_type": "code",
   "execution_count": null,
   "metadata": {},
   "outputs": [],
   "source": [
    "#finding geography\n",
    "censusdata.geographies(censusdata.censusgeo([('state', '*')]), 'acs5', 2018)"
   ]
  },
  {
   "cell_type": "code",
   "execution_count": null,
   "metadata": {},
   "outputs": [],
   "source": [
    "#selecting Nevada and getting county names\n",
    "censusdata.geographies(censusdata.censusgeo([('state', '04'), ('county', '*')]), 'acs5', 2018)\n"
   ]
  },
  {
   "cell_type": "code",
   "execution_count": null,
   "metadata": {},
   "outputs": [],
   "source": [
    "#Downloading all census tract level information for clark county (las vegas 32, 003)\n",
    "col ={'B02001_001E': 'pop_2018', 'B19013_001E': 'median_income'}\n",
    "vegas_census = censusdata.download('acs5', 2018,\n",
    "                             censusdata.censusgeo([('state', '32'), ('county', '003'), ('tract', '*')]) ,\n",
    "                                   ['B02001_001E','B19013_001E']).reset_index().rename(columns =col)\n",
    "#Downloading all census tract information for  county Pheonix\n",
    "phnx_census = censusdata.download('acs5', 2018,\n",
    "                             censusdata.censusgeo([('state', '04'), ('county', '013'), ('tract', '*')]),\n",
    "                                   ['B02001_001E','B19013_001E']).reset_index().rename(columns =col)\n",
    "\n"
   ]
  },
  {
   "cell_type": "code",
   "execution_count": null,
   "metadata": {},
   "outputs": [],
   "source": [
    "print(vegas_census.shape)\n",
    "print(phnx_census.shape)\n",
    "# 'Median_Income' = B19013_001E, 'Total_Pop' = B02001_001E, 'White_Pop' = B02001_002E, 'African_American_Pop' = B02001_003E,\n",
    "#          'Native_American_Pop' = B02001_004E, 'Asian_Pop' = B02001_005E, 'Hawain_Pacisld_Pop'= B02001_006E"
   ]
  },
  {
   "cell_type": "code",
   "execution_count": null,
   "metadata": {},
   "outputs": [],
   "source": [
    "# Concating vegas and Pheonix\n",
    "frames = [vegas_census, phnx_census]\n",
    "census_df = pd.concat(frames)\n",
    "print(census_df.head())\n",
    "print(census_df.shape)"
   ]
  },
  {
   "cell_type": "code",
   "execution_count": null,
   "metadata": {},
   "outputs": [],
   "source": [
    "#saving as DF for processing\n",
    "census_df.to_csv('yelp_data/census_df.csv', index =False)\n",
    "census_df = pd.read_csv('yelp_data/census_df.csv')"
   ]
  },
  {
   "cell_type": "code",
   "execution_count": null,
   "metadata": {},
   "outputs": [],
   "source": [
    "#renaming , expanding and dropping columns\n",
    "census_df = census_df.rename({'index':'census_info'}, axis =1)\n",
    "census_df = pd.concat([census_df[['pop_2018','median_income']], census_df['census_info'].str.split(',',expand=True)], axis =1)\n",
    "x={0:'census_tract', 1: 'county'}\n",
    "census_df =census_df.drop([2,3], axis =1).rename(columns =x)"
   ]
  },
  {
   "cell_type": "code",
   "execution_count": null,
   "metadata": {},
   "outputs": [],
   "source": [
    "#removing Census Tract\n",
    "census_df['census_tract'] = census_df['census_tract'].str.replace('Census Tract ', '')\n",
    "census_df.head()"
   ]
  },
  {
   "cell_type": "code",
   "execution_count": null,
   "metadata": {},
   "outputs": [],
   "source": [
    "census_df = census_df.replace(-666666666,np.nan)\n",
    "census_df['median_income'].fillna((census_df['median_income'].mean()), inplace=True)\n",
    "# census_df = census_df.fillna(census_df['median_income'].transform('median'))\n",
    "#business_resturants = business_resturants.fillna(business_resturants.groupby('name')[impute_list].transform('median'))\n",
    "census_df.describe()"
   ]
  },
  {
   "cell_type": "code",
   "execution_count": null,
   "metadata": {},
   "outputs": [],
   "source": [
    "#census_df = census_df[census_df['median_income']!= 'NaN']"
   ]
  },
  {
   "cell_type": "code",
   "execution_count": null,
   "metadata": {},
   "outputs": [],
   "source": [
    "# # To check If object column contains mixed data type \n",
    "# census_df['median_income'].apply(type).value_counts()"
   ]
  },
  {
   "cell_type": "code",
   "execution_count": null,
   "metadata": {},
   "outputs": [],
   "source": [
    "# #getting shape file for vegas\n",
    "# shp_path_vegas =('Yelp_data/shape/tl_2019_32_tract.shp')\n",
    "# sf_vegas=shp.Reader(shp_path_vegas)\n",
    "# #getting shape file for Pheonix\n",
    "# shp_path_phx =('Yelp_data/shape_phx/tl_2019_04_tract.shp')\n",
    "# sf_phx=shp.Reader(shp_path_phx)"
   ]
  },
  {
   "cell_type": "code",
   "execution_count": null,
   "metadata": {},
   "outputs": [],
   "source": [
    "# #Changing shape file into pandas data file\n",
    "# def read_shapefile(sf):\n",
    "#     \"\"\"\n",
    "#     Read a shapefile into a Pandas dataframe with a 'coords' \n",
    "#     column holding the geometry information. This uses the pyshp\n",
    "#     package\n",
    "#     \"\"\"\n",
    "#     fields = [x[0] for x in sf.fields][1:]\n",
    "#     records = sf.records()\n",
    "#     shps = [s.points for s in sf.shapes()]\n",
    "#     df = pd.DataFrame(columns=fields, data=records)\n",
    "#     df = df.assign(coords=shps)\n",
    "#     return df\n",
    "# #applying function to get the df\n",
    "# df_vegas = read_shapefile(sf_vegas)\n",
    "# df_phx = read_shapefile(sf_phx)\n"
   ]
  },
  {
   "cell_type": "code",
   "execution_count": null,
   "metadata": {},
   "outputs": [],
   "source": [
    "# #checking numbr of shapes in shape files in\n",
    "# len(sf_vegas.shapes())\n",
    "# #exploring one of the shape (or records)\n",
    "# sf_vegas.records()[1]"
   ]
  },
  {
   "cell_type": "markdown",
   "metadata": {},
   "source": [
    "# Working with shape file and geo dataframe"
   ]
  },
  {
   "cell_type": "code",
   "execution_count": null,
   "metadata": {},
   "outputs": [],
   "source": [
    "#Reading files as geopand dataframe\n",
    "df_vegas = gpd.read_file('Yelp_data/shape/tl_2019_32_tract.shp')\n",
    "df_phx = gpd.read_file('Yelp_data/shape_phx/tl_2019_04_tract.shp')"
   ]
  },
  {
   "cell_type": "code",
   "execution_count": null,
   "metadata": {},
   "outputs": [],
   "source": [
    "business_resturants = pd.read_csv('yelp_data/business_resturants.csv')"
   ]
  },
  {
   "cell_type": "code",
   "execution_count": null,
   "metadata": {},
   "outputs": [],
   "source": [
    "type(df_vegas)"
   ]
  },
  {
   "cell_type": "code",
   "execution_count": null,
   "metadata": {},
   "outputs": [],
   "source": [
    "# subsetting to keep county just for Vegas and Pheonix\n",
    "df_vegas = df_vegas[df_vegas['COUNTYFP']=='003']\n",
    "df_phx = df_phx[df_phx['COUNTYFP']=='013']"
   ]
  },
  {
   "cell_type": "code",
   "execution_count": null,
   "metadata": {},
   "outputs": [],
   "source": [
    "#concating vegas and Pheonix dataframe\n",
    "frames_shp = [df_vegas, df_phx]\n",
    "shape_df = pd.concat(frames_shp)\n"
   ]
  },
  {
   "cell_type": "code",
   "execution_count": null,
   "metadata": {},
   "outputs": [],
   "source": [
    "s={'STATEFP':'state', 'NAME':'census_tract', 'GEOID':'geoid'}\n",
    "shape_df =shape_df.drop(['TRACTCE','NAMELSAD','MTFCC','FUNCSTAT','ALAND','AWATER', 'COUNTYFP', 'INTPTLAT', 'INTPTLON' ], axis =1).rename(columns=s)\n",
    "# #changing numbers to state initials\n",
    "shape_df['state'] = shape_df['state'].map({'32': 'NV', '04': 'AR'})\n"
   ]
  },
  {
   "cell_type": "code",
   "execution_count": null,
   "metadata": {},
   "outputs": [],
   "source": [
    "#Merging income from census and geodata for tract, to preserve the geodata we need to keep deo df at left during merge\n",
    "income_df = shape_df.merge(census_df, on='census_tract')\n",
    "\n"
   ]
  },
  {
   "cell_type": "code",
   "execution_count": null,
   "metadata": {},
   "outputs": [],
   "source": [
    "#rearranging the column order\n",
    "c_list=['geoid','state','county', 'census_tract', 'pop_2018','median_income', 'geometry' ]\n",
    "income_df = income_df[c_list]\n",
    "\n"
   ]
  },
  {
   "cell_type": "code",
   "execution_count": null,
   "metadata": {},
   "outputs": [],
   "source": [
    "#Getting state specific info \n",
    "# tract_vegas = income_df[income_df['state']=='NV']\n",
    "# tract_phnx = income_df[income_df['state']=='AR']"
   ]
  },
  {
   "cell_type": "code",
   "execution_count": null,
   "metadata": {},
   "outputs": [],
   "source": [
    "tract_vegas = income_df[income_df['state']=='NV']\n",
    "# fig, ax =plt.subplots(figsize =(12,10))\n",
    "# tract_vegas.plot(color=\"Grey\", ax=ax);"
   ]
  },
  {
   "cell_type": "code",
   "execution_count": null,
   "metadata": {},
   "outputs": [],
   "source": [
    "tract_phnx = income_df[income_df['state']=='AR']\n",
    "# fig, ax =plt.subplots(figsize =(12,10))\n",
    "# tract_phnx.plot(color=\"Grey\", ax=ax);"
   ]
  },
  {
   "cell_type": "code",
   "execution_count": null,
   "metadata": {},
   "outputs": [],
   "source": [
    "from shapely.geometry import Point\n",
    "business_resturants= pd.read_csv('yelp_data/business_resturants.csv')\n",
    "#creating geometry \n",
    "business_resturants['geometry'] = business_resturants.apply(lambda x: Point((float(x.longitude),float(x.latitude))),axis =1)"
   ]
  },
  {
   "cell_type": "code",
   "execution_count": null,
   "metadata": {},
   "outputs": [],
   "source": [
    "#building geoDataFrame and we want the CRS to match the CRS in the tract_vegas GeoDataFrame\n",
    "business_geo  =gpd.GeoDataFrame(business_resturants, crs =income_df.crs,geometry = business_resturants['geometry'])"
   ]
  },
  {
   "cell_type": "code",
   "execution_count": null,
   "metadata": {},
   "outputs": [],
   "source": [
    "#combining census tract and yelp business geodatas\n",
    "yelp_census = gpd.sjoin(business_geo, income_df, op ='within')\n",
    "yelp_census= yelp_census.drop([ 'index_right', 'state_right'], axis =1)\n",
    "yelp_census['price_range'] = round(yelp_census['price_range'])"
   ]
  },
  {
   "cell_type": "code",
   "execution_count": null,
   "metadata": {},
   "outputs": [],
   "source": [
    "#Exporting final business and census copiled file\n",
    "yelp_census.to_csv('yelp_data/yelp_compiled.csv', index =False)"
   ]
  },
  {
   "cell_type": "code",
   "execution_count": null,
   "metadata": {},
   "outputs": [],
   "source": [
    "yelp_census_geo= yelp_census.drop(['romantic', 'intimate', 'touristy', 'hipster', 'divey', 'classy', 'trendy',\n",
    "                                'upscale', 'casual', 'new_categories'], axis =1)"
   ]
  },
  {
   "cell_type": "markdown",
   "metadata": {},
   "source": [
    "# Mapping"
   ]
  },
  {
   "cell_type": "code",
   "execution_count": null,
   "metadata": {},
   "outputs": [],
   "source": [
    "yelp_census_geo.to_csv('yelp_data/yelp_census_geo.csv', index =False)"
   ]
  },
  {
   "cell_type": "code",
   "execution_count": null,
   "metadata": {},
   "outputs": [],
   "source": [
    "yelp_census_geo =pd.read_csv('yelp_data/yelp_census_geo.csv')"
   ]
  },
  {
   "cell_type": "code",
   "execution_count": null,
   "metadata": {},
   "outputs": [],
   "source": [
    "fig, ax = plt.subplots(figsize=(12,10))\n",
    "sns.barplot(x = 'stars', y = 'name', data=top_restaurants, ax= ax);\n",
    "plt.savefig('top20_restaurants.png')\n",
    "plt.show()"
   ]
  },
  {
   "cell_type": "code",
   "execution_count": null,
   "metadata": {},
   "outputs": [],
   "source": [
    "import plotly.graph_objs as go\n",
    "import plotly.express as px\n",
    "from ipywidgets import widgets"
   ]
  },
  {
   "cell_type": "code",
   "execution_count": null,
   "metadata": {},
   "outputs": [],
   "source": [
    "\n",
    "px.set_mapbox_access_token(\"pk.eyJ1IjoiYW5hbWlrYTEyMyIsImEiOiJja2Fpb3dycmgwMnJhMnJuc213YnA4emlrIn0.b_ToBPcogxVFLkqiaI9DmA\")"
   ]
  },
  {
   "cell_type": "code",
   "execution_count": null,
   "metadata": {},
   "outputs": [],
   "source": [
    "print(px.colors.sequential.Plasma)"
   ]
  },
  {
   "cell_type": "code",
   "execution_count": null,
   "metadata": {},
   "outputs": [],
   "source": [
    "#income map for las vega\n",
    "vegas_geo =yelp_census_geo[yelp_census_geo['state_left']=='NV']\n",
    "px.scatter_mapbox(vegas_geo, lat=\"latitude\", lon=\"longitude\", color=\"income_range\",\n",
    "                  color_continuous_scale= px.colors.sequential.Bluered,\n",
    "                          hover_data= ['name', 'census_tract','median_income', 'category'],size_max=30, zoom=10, width=1200, height=800)\n"
   ]
  },
  {
   "cell_type": "code",
   "execution_count": null,
   "metadata": {},
   "outputs": [],
   "source": [
    "#resturant category map for Las vegas\n",
    "vegas_geo =yelp_census_geo[yelp_census_geo['state_left']=='NV']\n",
    "px.scatter_mapbox(vegas_geo, lat=\"latitude\", lon=\"longitude\", color=\"price_range\", \n",
    "                  #color_continuous_scale= px.colors.sequential.Bluered,\n",
    "                          hover_data= ['name', 'census_tract','median_income', 'category'],size_max=30, zoom=8, width=1200, height=800)\n"
   ]
  },
  {
   "cell_type": "code",
   "execution_count": null,
   "metadata": {},
   "outputs": [],
   "source": [
    "#\n",
    "phnx_geo =yelp_census_geo[yelp_census_geo['state_left']=='AZ']\n",
    "px.scatter_mapbox(phnx_geo, lat=\"latitude\", lon=\"longitude\", color=\"income_range\",\n",
    "                  color_continuous_scale= px.colors.sequential.Bluered, \n",
    "                  size_max=15, zoom=10, width=1200, height=800)\n"
   ]
  },
  {
   "cell_type": "code",
   "execution_count": null,
   "metadata": {},
   "outputs": [],
   "source": [
    "phnx_geo =yelp_census_geo[yelp_census_geo['state_left']=='AZ']\n",
    "px.scatter_mapbox(phnx_geo, lat=\"latitude\", lon=\"longitude\", color=\"price_range\",\n",
    "                  #color_continuous_scale= px.colors.sequential.Bluered,\n",
    "                  hover_data= ['name', 'income_range','median_income'],size_max=30, zoom=10, width=1200, height=800)\n"
   ]
  },
  {
   "cell_type": "code",
   "execution_count": null,
   "metadata": {},
   "outputs": [],
   "source": [
    "# tract_vegas.crs"
   ]
  },
  {
   "cell_type": "code",
   "execution_count": null,
   "metadata": {},
   "outputs": [],
   "source": [
    "#building geoDataFrame and we want the CRS to match the CRS in the tract_vegas GeoDataFrame\n",
    "vegas_geo = gpd.GeoDataFrame(business_vegas, crs =tract_vegas.crs, geometry =business_vegas['geometry'])"
   ]
  },
  {
   "cell_type": "code",
   "execution_count": null,
   "metadata": {},
   "outputs": [],
   "source": [
    "#combining census tract and yelp business geodatas\n",
    "# yelp_vegas_tract = gpd.sjoin(vegas_geo, tract_vegas, op ='within')\n",
    "# yelp_vegas_tract.head()"
   ]
  },
  {
   "cell_type": "code",
   "execution_count": null,
   "metadata": {},
   "outputs": [],
   "source": [
    "vegas_geo =yelp_census_geo[yelp_census_geo['state_left']=='NV']\n",
    "px.scatter_mapbox(vegas_geo, lat=\"latitude\", lon=\"longitude\", color=\"category\", \n",
    "                   hover_data= ['name', 'census_tract','median_income', 'category'],size_max=30, zoom=10, width=1200, height=800)\n"
   ]
  },
  {
   "cell_type": "code",
   "execution_count": null,
   "metadata": {},
   "outputs": [],
   "source": [
    "vegas_geo =yelp_census[yelp_censu_geos['state_left']=='NV']\n",
    "px.scatter_mapbox(vegas_geo, lat=\"latitude\", lon=\"longitude\", color=\"price_range\", \n",
    "                   hover_data= ['name', 'census_tract','median_income', 'category'],size_max=30, zoom=10, width=1200, height=800)\n"
   ]
  },
  {
   "cell_type": "code",
   "execution_count": null,
   "metadata": {},
   "outputs": [],
   "source": [
    "#vegas_geo =yelp_census[yelp_census['state_left']=='NV'].groupby('census_tract')"
   ]
  },
  {
   "cell_type": "code",
   "execution_count": null,
   "metadata": {},
   "outputs": [],
   "source": [
    "vegas_geo.head()"
   ]
  },
  {
   "cell_type": "markdown",
   "metadata": {},
   "source": [
    "# K Mean clustering"
   ]
  },
  {
   "cell_type": "code",
   "execution_count": null,
   "metadata": {},
   "outputs": [],
   "source": [
    "from sklearn.cluster import KMeans"
   ]
  },
  {
   "cell_type": "code",
   "execution_count": null,
   "metadata": {},
   "outputs": [],
   "source": [
    "K_clusters = range(1,10)\n",
    "kmeans = [KMeans(n_clusters=i) for i in K_clusters]\n",
    "Y_axis = vegas_geo[['latitude']]\n",
    "X_axis = vegas_geo[['longitude']]\n",
    "score = [kmeans[i].fit(Y_axis).score(Y_axis) for i in range(len(kmeans))]\n",
    "# Visualize\n",
    "plt.plot(K_clusters, score)\n",
    "plt.xlabel('Number of Clusters')\n",
    "plt.ylabel('Score')\n",
    "plt.title('Elbow Curve')\n",
    "plt.show()"
   ]
  },
  {
   "cell_type": "code",
   "execution_count": null,
   "metadata": {},
   "outputs": [],
   "source": [
    "geo = vegas_geo[['longitude','latitude']]\n",
    "kmeans = KMeans(n_clusters=4, init='k-means++')\n",
    "kmeans.fit(geo)   # compute kmeans\n",
    "y = kmeans.labels_ #labels of each point\n",
    "vegas_geo['cluster'] = kmeans.predict(vegas_geo[['longitude','latitude']]) # labels of each point\n"
   ]
  },
  {
   "cell_type": "code",
   "execution_count": null,
   "metadata": {},
   "outputs": [],
   "source": [
    "vegas_geo['cluster'] = kmeans.predict(vegas_geo[['longitude','latitude']])\n",
    "vegas_geo.head()"
   ]
  },
  {
   "cell_type": "code",
   "execution_count": null,
   "metadata": {},
   "outputs": [],
   "source": [
    "px.scatter_mapbox(vegas_geo, lat=\"latitude\", lon=\"longitude\", color=\"cluster\",\n",
    "                  hover_data= ['name', 'census_tract', 'price_range','category'], zoom=10, width=1200, height=800)"
   ]
  }
 ],
 "metadata": {
  "kernelspec": {
   "display_name": "Python 3",
   "language": "python",
   "name": "python3"
  },
  "language_info": {
   "codemirror_mode": {
    "name": "ipython",
    "version": 3
   },
   "file_extension": ".py",
   "mimetype": "text/x-python",
   "name": "python",
   "nbconvert_exporter": "python",
   "pygments_lexer": "ipython3",
   "version": "3.7.3"
  }
 },
 "nbformat": 4,
 "nbformat_minor": 2
}
